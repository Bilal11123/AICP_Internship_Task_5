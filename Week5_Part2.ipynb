import pandas as pd
import plotly.express as px
import plotly.graph_objects as go
import plotly.io as pio
from wordcloud import WordCloud
pio.templates.default = "plotly_white"

# Load the dataset
df = pd.read_csv('Instagram data.csv')

# Concatenate all hashtags into a single string
all_hashtags = ' '.join(df['Hashtags'].dropna())

# Generate a WordCloud
wordcloud = WordCloud(width=800, height=400, background_color='black').generate(all_hashtags)

# Display the WordCloud using plotly.graph_objects
fig = go.Figure(go.Image(z=wordcloud.to_array()))
fig.update_layout(title_text='Word Cloud of Hashtags')

# Show the plot
fig.show()
